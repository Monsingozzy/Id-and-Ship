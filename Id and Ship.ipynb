{
 "cells": [
  {
   "cell_type": "markdown",
   "metadata": {},
   "source": [
    "# Id and Ship"
   ]
  },
  {
   "cell_type": "code",
   "execution_count": null,
   "metadata": {},
   "outputs": [],
   "source": [
    "t=int(input()) #steps \n",
    "for _ in range(t):\n",
    "    n=input() # input letter\n",
    "    \n",
    "    # check input letter is   then print equvalent condition \n",
    "    if n=='B' or n=='b': \n",
    "        print(\"BattleShip\")\n",
    "    elif n=='c' or n=='C':\n",
    "        print(\"Cruiser\")\n",
    "    elif n=='D' or n=='d':\n",
    "        print(\"Destroyer\")\n",
    "    elif n=='F' or n=='f':\n",
    "        print(\"Frigate\")"
   ]
  },
  {
   "cell_type": "markdown",
   "metadata": {},
   "source": [
    "## step1 : number of  step in t\n",
    "\n",
    "## step2 : take input letter in n\n",
    "\n",
    "## step3 : check enter value and print equvalent condition"
   ]
  },
  {
   "cell_type": "code",
   "execution_count": null,
   "metadata": {},
   "outputs": [],
   "source": []
  }
 ],
 "metadata": {
  "kernelspec": {
   "display_name": "Python 3",
   "language": "python",
   "name": "python3"
  },
  "language_info": {
   "codemirror_mode": {
    "name": "ipython",
    "version": 3
   },
   "file_extension": ".py",
   "mimetype": "text/x-python",
   "name": "python",
   "nbconvert_exporter": "python",
   "pygments_lexer": "ipython3",
   "version": "3.7.9"
  }
 },
 "nbformat": 4,
 "nbformat_minor": 4
}
